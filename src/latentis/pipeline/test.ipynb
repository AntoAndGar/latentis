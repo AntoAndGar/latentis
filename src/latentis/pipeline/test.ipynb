{
 "cells": [
  {
   "cell_type": "code",
   "execution_count": null,
   "metadata": {},
   "outputs": [],
   "source": [
    "from sklearn.decomposition import PCA\n",
    "from sklearn.ensemble import RandomForestRegressor\n",
    "from sklearn.impute import SimpleImputer\n",
    "from sklearn.linear_model import LinearRegression\n",
    "from sklearn.neighbors import KNeighborsRegressor\n",
    "from sklearn.svm import SVR"
   ]
  },
  {
   "cell_type": "code",
   "execution_count": null,
   "metadata": {},
   "outputs": [],
   "source": [
    "from latentis.utils import seed_everything\n",
    "\n",
    "seed_everything(0)"
   ]
  },
  {
   "cell_type": "code",
   "execution_count": null,
   "metadata": {},
   "outputs": [],
   "source": [
    "from latentis.pipeline._builder import DAGBuilder\n",
    "\n",
    "dag = (\n",
    "    DAGBuilder(infer_dataframe=True)\n",
    "    .add_step(\"x\", \"passthrough\", deps=None)\n",
    "    .add_step(\"y\", \"passthrough\", deps=None)\n",
    "    .add_step(\"impute\", SimpleImputer())\n",
    "    .add_step(\"vitals\", \"passthrough\", deps={\"impute\": [\"age\", \"sex\", \"bmi\", \"bp\"]})\n",
    "    .add_step(\"blood\", PCA(n_components=2, random_state=0), deps={\"impute\": [\"s1\", \"s2\", \"s3\", \"s4\", \"s5\", \"s6\"]})\n",
    "    .add_step(\"rf\", RandomForestRegressor(max_depth=5, random_state=0), deps=[\"blood\", \"vitals\"])\n",
    "    .add_step(\"svm\", SVR(C=0.7), deps=[\"blood\", \"vitals\"])\n",
    "    .add_step(\"knn\", KNeighborsRegressor(n_neighbors=5), deps=[\"blood\", \"vitals\"])\n",
    "    .add_step(\"meta\", LinearRegression(), deps=[\"rf\", \"svm\", \"knn\"])\n",
    "    .make_dag()\n",
    ")"
   ]
  },
  {
   "cell_type": "code",
   "execution_count": null,
   "metadata": {},
   "outputs": [],
   "source": [
    "class Procrustes(Transform):\n",
    "    def fit(self, X, Y):\n",
    "        self.x_scaler.fit(X)\n",
    "        self.y_scaler.fit(Y)\n",
    "\n",
    "        self.estimator.fit(self.x_scaler.transform(X), self.y_scaler.transform(Y))\n",
    "\n",
    "        return self\n",
    "\n",
    "    def transform(self, X, y=None):\n",
    "        X = self.estimator.transform(self.x_scaler.transform(X))\n",
    "        return self.y_scaler.inverse_transform(X)"
   ]
  },
  {
   "cell_type": "code",
   "execution_count": null,
   "metadata": {},
   "outputs": [],
   "source": [
    "from latentis.pipeline._builder import DAGBuilder\n",
    "\n",
    "y_scaler = StandardScaler()\n",
    "dag = (\n",
    "    DAGBuilder(infer_dataframe=True)\n",
    "    .add_step(\"x\", \"passthrough\", deps=None)\n",
    "    .add_step(\"y\", \"passthrough\", deps=None)\n",
    "    .add_step(\"x_scaling\", StandardScaler(), x_deps=[\"x\"])\n",
    "    .add_step(\"y_scaling\", y_scaler, y_deps=[\"y\"])\n",
    "    # .add_step(\"estimator\", SVDEstimator(), x_deps=[\"x_scaling\"], y_deps=[\"y_scaling\"])\n",
    "    .add_step(\"estimator\", CCAEstimator(), x_deps=[\"x_scaling\"], y_deps=[\"y_scaling\"])\n",
    "    .add_step(\"y_descaler\", Reverse(y_scaler), x_deps={\"estimator\": 0})\n",
    "    .make_dag()\n",
    ")"
   ]
  },
  {
   "cell_type": "code",
   "execution_count": null,
   "metadata": {},
   "outputs": [],
   "source": [
    "from sklearn import datasets\n",
    "from sklearn.model_selection import train_test_split\n",
    "\n",
    "\n",
    "X, y = datasets.load_diabetes(return_X_y=True, as_frame=True)\n",
    "X_train, X_test, y_train, y_test = train_test_split(X, y, test_size=0.2, random_state=0)\n",
    "\n",
    "dag.fit(X_train, y_train)\n",
    "dag.predict(X_test)"
   ]
  }
 ],
 "metadata": {
  "kernelspec": {
   "display_name": "latentis",
   "language": "python",
   "name": "python3"
  },
  "language_info": {
   "codemirror_mode": {
    "name": "ipython",
    "version": 3
   },
   "file_extension": ".py",
   "mimetype": "text/x-python",
   "name": "python",
   "nbconvert_exporter": "python",
   "pygments_lexer": "ipython3",
   "version": "3.9.18"
  }
 },
 "nbformat": 4,
 "nbformat_minor": 2
}
