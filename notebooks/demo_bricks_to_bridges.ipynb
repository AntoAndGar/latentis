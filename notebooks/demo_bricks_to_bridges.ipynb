{
 "cells": [
  {
   "cell_type": "code",
   "execution_count": 1,
   "metadata": {
    "id": "PULWYp1mZIdl"
   },
   "outputs": [],
   "source": [
    "from latentis.transform.projection import (\n",
    "    cosine_proj,\n",
    "    euclidean_proj,\n",
    "    l1_proj,\n",
    "    lp_proj,\n",
    ")\n",
    "from latentis.methods.bricks_to_bridges import BricksToBridges, NonLinearSumAggregation\n",
    "from latentis.space import LatentSpace\n",
    "from latentis.sample import Uniform\n",
    "\n",
    "import torch"
   ]
  },
  {
   "cell_type": "code",
   "execution_count": 2,
   "metadata": {},
   "outputs": [
    {
     "data": {
      "text/plain": [
       "(torch.Size([5, 10]), torch.Size([3, 10]))"
      ]
     },
     "execution_count": 2,
     "metadata": {},
     "output_type": "execute_result"
    }
   ],
   "source": [
    "space = LatentSpace(name=\"x\", vector_source=torch.randn(5, 10))\n",
    "anchors = space.sample(sampler=Uniform(), n=3)\n",
    "space.shape, anchors.shape"
   ]
  },
  {
   "cell_type": "code",
   "execution_count": 3,
   "metadata": {
    "colab": {
     "base_uri": "https://localhost:8080/"
    },
    "id": "h6ZyakpmcKCa",
    "outputId": "b0e32f91-97a9-4451-b25c-2445339a2787"
   },
   "outputs": [
    {
     "ename": "TypeError",
     "evalue": "relative_projection() got an unexpected keyword argument 'abs_transform_name=identity, reverse_fn=<lambda>)'",
     "output_type": "error",
     "traceback": [
      "\u001b[0;31m---------------------------------------------------------------------------\u001b[0m",
      "\u001b[0;31mTypeError\u001b[0m                                 Traceback (most recent call last)",
      "Cell \u001b[0;32mIn[3], line 2\u001b[0m\n\u001b[1;32m      1\u001b[0m projector \u001b[38;5;241m=\u001b[39m (\n\u001b[0;32m----> 2\u001b[0m     \u001b[43mBricksToBridges\u001b[49m\u001b[43m(\u001b[49m\n\u001b[1;32m      3\u001b[0m \u001b[43m        \u001b[49m\u001b[43mprojection_fns\u001b[49m\u001b[38;5;241;43m=\u001b[39;49m\u001b[43m[\u001b[49m\u001b[43mcosine_proj\u001b[49m\u001b[43m,\u001b[49m\u001b[43m \u001b[49m\u001b[43meuclidean_proj\u001b[49m\u001b[43m,\u001b[49m\u001b[43m \u001b[49m\u001b[43ml1_proj\u001b[49m\u001b[43m]\u001b[49m\u001b[43m,\u001b[49m\n\u001b[1;32m      4\u001b[0m \u001b[43m        \u001b[49m\u001b[43maggregation_module\u001b[49m\u001b[38;5;241;43m=\u001b[39;49m\u001b[43mNonLinearSumAggregation\u001b[49m\u001b[43m,\u001b[49m\n\u001b[1;32m      5\u001b[0m \u001b[43m    \u001b[49m\u001b[43m)\u001b[49m\n\u001b[1;32m      6\u001b[0m \u001b[43m    \u001b[49m\u001b[38;5;241;43m.\u001b[39;49m\u001b[43mfit\u001b[49m\u001b[43m(\u001b[49m\u001b[43mx\u001b[49m\u001b[38;5;241;43m=\u001b[39;49m\u001b[43manchors\u001b[49m\u001b[38;5;241;43m.\u001b[39;49m\u001b[43mvectors\u001b[49m\u001b[43m)\u001b[49m\n\u001b[1;32m      7\u001b[0m \u001b[43m    \u001b[49m\u001b[38;5;241;43m.\u001b[39;49m\u001b[43mtransform\u001b[49m\u001b[43m(\u001b[49m\u001b[43mx\u001b[49m\u001b[38;5;241;43m=\u001b[39;49m\u001b[43mspace\u001b[49m\u001b[43m)\u001b[49m\n\u001b[1;32m      8\u001b[0m )\n",
      "File \u001b[0;32m~/Projects/latentis/src/latentis/methods/bricks_to_bridges.py:69\u001b[0m, in \u001b[0;36mBricksToBridges.transform\u001b[0;34m(self, x)\u001b[0m\n\u001b[1;32m     63\u001b[0m \u001b[38;5;28;01mfor\u001b[39;00m abs_transform, rel_transform, projection_fn \u001b[38;5;129;01min\u001b[39;00m \u001b[38;5;28mzip\u001b[39m(\n\u001b[1;32m     64\u001b[0m     \u001b[38;5;28mself\u001b[39m\u001b[38;5;241m.\u001b[39mabs_transforms,\n\u001b[1;32m     65\u001b[0m     \u001b[38;5;28mself\u001b[39m\u001b[38;5;241m.\u001b[39mrel_transforms,\n\u001b[1;32m     66\u001b[0m     \u001b[38;5;28mself\u001b[39m\u001b[38;5;241m.\u001b[39mprojection_fns,\n\u001b[1;32m     67\u001b[0m ):\n\u001b[1;32m     68\u001b[0m     x \u001b[38;5;241m=\u001b[39m abs_transform\u001b[38;5;241m.\u001b[39mtransform(x)\n\u001b[0;32m---> 69\u001b[0m     rel_x \u001b[38;5;241m=\u001b[39m \u001b[43mrelative_projection\u001b[49m\u001b[43m(\u001b[49m\u001b[43mx\u001b[49m\u001b[43m,\u001b[49m\u001b[43m \u001b[49m\u001b[38;5;241;43m*\u001b[39;49m\u001b[38;5;241;43m*\u001b[39;49m\u001b[38;5;28;43mself\u001b[39;49m\u001b[38;5;241;43m.\u001b[39;49m\u001b[43mget_state\u001b[49m\u001b[43m(\u001b[49m\u001b[43m)\u001b[49m\u001b[43m,\u001b[49m\u001b[43m \u001b[49m\u001b[43mprojection_fn\u001b[49m\u001b[38;5;241;43m=\u001b[39;49m\u001b[43mprojection_fn\u001b[49m\u001b[43m)\u001b[49m\n\u001b[1;32m     70\u001b[0m     rel_x \u001b[38;5;241m=\u001b[39m rel_transform\u001b[38;5;241m.\u001b[39mtransform(rel_x)\n\u001b[1;32m     71\u001b[0m     relative_spaces\u001b[38;5;241m.\u001b[39mappend(rel_x)\n",
      "\u001b[0;31mTypeError\u001b[0m: relative_projection() got an unexpected keyword argument 'abs_transform_name=identity, reverse_fn=<lambda>)'"
     ]
    }
   ],
   "source": [
    "projector = (\n",
    "    BricksToBridges(\n",
    "        projection_fns=[cosine_proj, euclidean_proj, l1_proj],\n",
    "        aggregation_module=NonLinearSumAggregation,\n",
    "    )\n",
    "    .fit(x=anchors.vectors)\n",
    "    .transform(x=space)\n",
    ")"
   ]
  },
  {
   "cell_type": "code",
   "execution_count": null,
   "metadata": {},
   "outputs": [],
   "source": []
  },
  {
   "cell_type": "code",
   "execution_count": null,
   "metadata": {},
   "outputs": [],
   "source": []
  }
 ],
 "metadata": {
  "colab": {
   "provenance": []
  },
  "kernelspec": {
   "display_name": "Python 3",
   "name": "python3"
  },
  "language_info": {
   "codemirror_mode": {
    "name": "ipython",
    "version": 3
   },
   "file_extension": ".py",
   "mimetype": "text/x-python",
   "name": "python",
   "nbconvert_exporter": "python",
   "pygments_lexer": "ipython3",
   "version": "3.9.18"
  }
 },
 "nbformat": 4,
 "nbformat_minor": 0
}
