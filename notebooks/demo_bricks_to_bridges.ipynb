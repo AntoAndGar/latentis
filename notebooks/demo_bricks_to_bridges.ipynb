{
 "cells": [
  {
   "cell_type": "code",
   "execution_count": null,
   "metadata": {
    "id": "PULWYp1mZIdl"
   },
   "outputs": [],
   "source": [
    "from latentis.transform.projection import (\n",
    "    cosine_proj,\n",
    "    euclidean_proj,\n",
    "    l1_proj,\n",
    "    lp_proj,\n",
    ")\n",
    "from latentis.methods.bricks_to_bridges import (\n",
    "    BricksToBridges,\n",
    "    ConcatAggregation,\n",
    "    LinearSumAggregation,\n",
    "    NonLinearSumAggregation,\n",
    "    WeightedAvgAggregation,\n",
    "    SelfAttentionLayer,\n",
    ")\n",
    "from latentis.space import LatentSpace\n",
    "from latentis.sample import Uniform\n",
    "\n",
    "import torch"
   ]
  },
  {
   "cell_type": "code",
   "execution_count": null,
   "metadata": {},
   "outputs": [],
   "source": [
    "space = LatentSpace(name=\"x\", vector_source=torch.randn(5, 5))\n",
    "anchors = space.sample(sampler=Uniform(), n=2)\n",
    "space.shape, anchors.shape"
   ]
  },
  {
   "cell_type": "code",
   "execution_count": null,
   "metadata": {
    "colab": {
     "base_uri": "https://localhost:8080/"
    },
    "id": "h6ZyakpmcKCa",
    "outputId": "b0e32f91-97a9-4451-b25c-2445339a2787"
   },
   "outputs": [],
   "source": [
    "relative = (\n",
    "    BricksToBridges(\n",
    "        projection_fns=[cosine_proj, euclidean_proj, l1_proj],\n",
    "        num_anchors=anchors.shape[0],\n",
    "        aggregation_type=LinearSumAggregation,\n",
    "    )\n",
    "    .fit(x=anchors.vectors)\n",
    "    .transform(x=space)\n",
    ")"
   ]
  },
  {
   "cell_type": "code",
   "execution_count": null,
   "metadata": {},
   "outputs": [],
   "source": [
    "relative"
   ]
  },
  {
   "cell_type": "code",
   "execution_count": null,
   "metadata": {},
   "outputs": [],
   "source": [
    "relative.shape"
   ]
  },
  {
   "cell_type": "code",
   "execution_count": null,
   "metadata": {},
   "outputs": [],
   "source": []
  }
 ],
 "metadata": {
  "colab": {
   "provenance": []
  },
  "kernelspec": {
   "display_name": "Python 3",
   "name": "python3"
  },
  "language_info": {
   "codemirror_mode": {
    "name": "ipython",
    "version": 3
   },
   "file_extension": ".py",
   "mimetype": "text/x-python",
   "name": "python",
   "nbconvert_exporter": "python",
   "pygments_lexer": "ipython3",
   "version": "3.9.18"
  }
 },
 "nbformat": 4,
 "nbformat_minor": 0
}
