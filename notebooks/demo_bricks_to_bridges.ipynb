{
 "cells": [
  {
   "cell_type": "code",
   "execution_count": null,
   "metadata": {
    "id": "PULWYp1mZIdl"
   },
   "outputs": [],
   "source": [
    "from latentis.transform.projection import (\n",
    "    cosine_proj,\n",
    "    euclidean_proj,\n",
    "    l1_proj,\n",
    "    lp_proj,\n",
    ")\n",
    "from latentis.methods.bricks_to_bridges import (\n",
    "    BricksToBridges,\n",
    "    ConcatAggregation,\n",
    "    LinearSumAggregation,\n",
    "    NonLinearSumAggregation,\n",
    "    WeightedAvgAggregation,\n",
    "    SelfAttentionLayer,\n",
    ")\n",
    "from latentis.space import LatentSpace\n",
    "from latentis.sample import Uniform\n",
    "\n",
    "from latentis.nn.decoders import Classifier\n",
    "from latentis.data.dataset import LatentisDataset\n",
    "from latentis.data import DATA_DIR\n",
    "\n",
    "import torch\n",
    "from latentis.data.text_encoding import HFPooler, cls_pool\n",
    "from latentis.data.utils import default_collate\n",
    "from latentis.nn.encoders import TextHFEncoder\n",
    "\n",
    "from latentis.nexus import space_index"
   ]
  },
  {
   "cell_type": "code",
   "execution_count": null,
   "metadata": {},
   "outputs": [],
   "source": [
    "# import itertools\n",
    "\n",
    "# from latentis.data.encode import encode_feature\n",
    "# from latentis.data.processor import TREC\n",
    "\n",
    "# latentis_dataset = TREC().process(\n",
    "#     perc=0.05,\n",
    "# )\n",
    "# latentis_dataset.save_to_disk()\n",
    "\n",
    "\n",
    "# for dataset, hf_encoder in itertools.product([\"trec\"], [\"bert-base-cased\"]):\n",
    "#     dataset = LatentisDataset.load_from_disk(DATA_DIR / dataset)\n",
    "\n",
    "#     encode_feature(\n",
    "#         dataset=dataset,\n",
    "#         feature=\"text\",\n",
    "#         model=TextHFEncoder(hf_encoder),\n",
    "#         collate_fn=default_collate,\n",
    "#         encoding_batch_size=256,\n",
    "#         store_every=10,\n",
    "#         num_workers=0,\n",
    "#         save_source_model=False,\n",
    "#         poolers=[\n",
    "#             HFPooler(layers=[12], pooling_fn=cls_pool),\n",
    "#         ],\n",
    "#         device=torch.device(\"cpu\"),\n",
    "#     )"
   ]
  },
  {
   "cell_type": "code",
   "execution_count": null,
   "metadata": {},
   "outputs": [],
   "source": [
    "dataset = LatentisDataset.load_from_disk(DATA_DIR / \"trec\")\n",
    "\n",
    "test_space = space_index.load_item(split=\"test\", layer=12, **{\"model/hf_name\": \"bert-base-cased\"})\n",
    "test_space.vectors.shape"
   ]
  },
  {
   "cell_type": "code",
   "execution_count": null,
   "metadata": {},
   "outputs": [],
   "source": [
    "test_space_id = space_index.get_item_key(split=\"test\", layer=12, **{\"model/hf_name\": \"bert-base-cased\"})"
   ]
  },
  {
   "cell_type": "code",
   "execution_count": null,
   "metadata": {},
   "outputs": [],
   "source": [
    "anchors = test_space.sample(sampler=Uniform(), n=5)\n",
    "anchors.vectors.shape"
   ]
  },
  {
   "cell_type": "code",
   "execution_count": null,
   "metadata": {},
   "outputs": [],
   "source": [
    "test_space"
   ]
  },
  {
   "cell_type": "code",
   "execution_count": null,
   "metadata": {},
   "outputs": [],
   "source": [
    "test_dataloader = dataset.get_dataloader(\n",
    "    space_id=test_space_id,\n",
    "    hf_x_keys=None,\n",
    "    hf_y_keys=(\"coarse_label\",),\n",
    "    batch_size=10,\n",
    "    shuffle=True,\n",
    "    num_workers=0,\n",
    ")\n",
    "\n",
    "it = iter(test_dataloader)\n",
    "first_batch = next(it)\n",
    "second_batch = next(it)"
   ]
  },
  {
   "cell_type": "code",
   "execution_count": null,
   "metadata": {},
   "outputs": [],
   "source": [
    "first_batch[\"encodings_key\"]"
   ]
  },
  {
   "cell_type": "code",
   "execution_count": null,
   "metadata": {},
   "outputs": [],
   "source": [
    "bridges = BricksToBridges(\n",
    "    projection_fns=[cosine_proj, euclidean_proj, l1_proj],\n",
    "    aggregation_type=ConcatAggregation,\n",
    "    num_anchors=len(anchors),\n",
    ")(x=test_space, anchors=anchors, is_pretrained=True)"
   ]
  },
  {
   "cell_type": "code",
   "execution_count": null,
   "metadata": {},
   "outputs": [],
   "source": []
  },
  {
   "cell_type": "code",
   "execution_count": null,
   "metadata": {},
   "outputs": [],
   "source": []
  }
 ],
 "metadata": {
  "colab": {
   "provenance": []
  },
  "kernelspec": {
   "display_name": "Python 3",
   "name": "python3"
  },
  "language_info": {
   "codemirror_mode": {
    "name": "ipython",
    "version": 3
   },
   "file_extension": ".py",
   "mimetype": "text/x-python",
   "name": "python",
   "nbconvert_exporter": "python",
   "pygments_lexer": "ipython3",
   "version": "3.9.18"
  }
 },
 "nbformat": 4,
 "nbformat_minor": 0
}
