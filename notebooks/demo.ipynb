{
  "nbformat": 4,
  "nbformat_minor": 0,
  "metadata": {
    "colab": {
      "provenance": []
    },
    "kernelspec": {
      "name": "python3",
      "display_name": "Python 3"
    },
    "language_info": {
      "name": "python"
    }
  },
  "cells": [
    {
      "cell_type": "code",
      "execution_count": null,
      "metadata": {
        "id": "C-BKbOfHZAkx"
      },
      "outputs": [],
      "source": [
        "!pip install latentis\n",
        "!pip install backports.strenum # I forgot to add this to the dependencies of the package"
      ]
    },
    {
      "cell_type": "code",
      "source": [
        "from latentis.relative.projection import Projections\n",
        "from latentis.relative.projection import RelativeProjector\n",
        "from latentis.transforms import Transforms\n",
        "\n",
        "import torch"
      ],
      "metadata": {
        "id": "PULWYp1mZIdl"
      },
      "execution_count": null,
      "outputs": []
    },
    {
      "cell_type": "code",
      "source": [
        "x = torch.randn(5, 10)\n",
        "anchors = x[:3]"
      ],
      "metadata": {
        "id": "QETgBS_lah0I"
      },
      "execution_count": null,
      "outputs": []
    },
    {
      "cell_type": "code",
      "source": [
        "RelativeProjector(\n",
        "    projection=Projections.COSINE,\n",
        "    anchors=anchors,\n",
        "    abs_transforms=Transforms.StandardScaling(),\n",
        "    rel_transforms=None\n",
        ")(x=x)"
      ],
      "metadata": {
        "colab": {
          "base_uri": "https://localhost:8080/"
        },
        "id": "tB96Jvutanb8",
        "outputId": "50eb1648-7444-4486-e42a-ee8a8ba4b2d7"
      },
      "execution_count": null,
      "outputs": [
        {
          "output_type": "execute_result",
          "data": {
            "text/plain": [
              "tensor([[ 1.0000, -0.6172, -0.3320],\n",
              "        [-0.6172,  1.0000, -0.5372],\n",
              "        [-0.3320, -0.5372,  1.0000],\n",
              "        [-0.1798,  0.3990, -0.2856],\n",
              "        [ 0.0536, -0.2391,  0.2292]])"
            ]
          },
          "metadata": {},
          "execution_count": 4
        }
      ]
    },
    {
      "cell_type": "code",
      "source": [
        "RelativeProjector(\n",
        "    projection=Projections.COSINE,\n",
        "    abs_transforms=Transforms.StandardScaling(),\n",
        "    rel_transforms=None\n",
        ")(x=x, anchors=anchors)"
      ],
      "metadata": {
        "colab": {
          "base_uri": "https://localhost:8080/"
        },
        "id": "keHv66YPZtY6",
        "outputId": "add9119a-20d3-4b5a-81bf-51d4224d2bbd"
      },
      "execution_count": null,
      "outputs": [
        {
          "output_type": "execute_result",
          "data": {
            "text/plain": [
              "tensor([[ 1.0000, -0.6172, -0.3320],\n",
              "        [-0.6172,  1.0000, -0.5372],\n",
              "        [-0.3320, -0.5372,  1.0000],\n",
              "        [-0.1798,  0.3990, -0.2856],\n",
              "        [ 0.0536, -0.2391,  0.2292]])"
            ]
          },
          "metadata": {},
          "execution_count": 5
        }
      ]
    },
    {
      "cell_type": "code",
      "source": [
        "projector = RelativeProjector(\n",
        "    anchors=anchors,\n",
        "    projection=Projections.COSINE,\n",
        "    abs_transforms=Transforms.StandardScaling(),\n",
        "    rel_transforms=Transforms.L2()\n",
        ")\n",
        "projector(x=x)"
      ],
      "metadata": {
        "colab": {
          "base_uri": "https://localhost:8080/"
        },
        "id": "h6ZyakpmcKCa",
        "outputId": "b0e32f91-97a9-4451-b25c-2445339a2787"
      },
      "execution_count": null,
      "outputs": [
        {
          "output_type": "execute_result",
          "data": {
            "text/plain": [
              "tensor([[ 0.8189, -0.5054, -0.2719],\n",
              "        [-0.4777,  0.7739, -0.4158],\n",
              "        [-0.2807, -0.4542,  0.8455],\n",
              "        [-0.3440,  0.7635, -0.5465],\n",
              "        [ 0.1597, -0.7126,  0.6831]])"
            ]
          },
          "metadata": {},
          "execution_count": 6
        }
      ]
    },
    {
      "cell_type": "code",
      "source": [],
      "metadata": {
        "id": "2NZKpscRcZRi"
      },
      "execution_count": null,
      "outputs": []
    }
  ]
}